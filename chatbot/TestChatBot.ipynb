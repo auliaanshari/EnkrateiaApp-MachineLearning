{
 "cells": [
  {
   "cell_type": "code",
   "execution_count": 1,
   "id": "d7049345",
   "metadata": {},
   "outputs": [],
   "source": [
    "import nltk\n",
    "from nltk.stem import WordNetLemmatizer\n",
    "\n",
    "from nltk.tokenize import word_tokenize\n",
    "\n",
    "import re\n",
    "import keras\n",
    "import pickle\n",
    "import numpy as np\n",
    "import pandas as pd\n",
    "\n",
    "from keras.preprocessing.text import Tokenizer\n",
    "from keras.preprocessing.sequence import pad_sequences\n",
    "from keras.utils.np_utils import to_categorical\n",
    "from keras.models import load_model\n",
    "import json\n",
    "import random"
   ]
  },
  {
   "cell_type": "code",
   "execution_count": 2,
   "id": "83b541c3",
   "metadata": {},
   "outputs": [],
   "source": [
    "lemmatizer = WordNetLemmatizer()\n",
    "\n",
    "model = load_model('/home/systemcommand/bangkit/enkrateia/app/chatbot/model/chatbot_model.h5')\n",
    "\n",
    "model_sent = load_model('/home/systemcommand/bangkit/enkrateia/app/chatbot/model/cnn_FastText.h5')\n",
    "\n",
    "intents = json.loads(open('/home/systemcommand/bangkit/enkrateia/app/chatbot/data/intents.json', encoding='utf-8').read())\n",
    "words = pickle.load(open('/home/systemcommand/bangkit/enkrateia/app/chatbot/data/words.pkl', 'rb'))\n",
    "classes = pickle.load(open('/home/systemcommand/bangkit/enkrateia/app/chatbot/data/classes.pkl', 'rb'))\n",
    "\n",
    "class_names = ['joy', 'fear', 'anger', 'sadness', 'neutral']\n",
    "max_seq_len = 500\n",
    "\n",
    "data_train = pd.read_csv('/home/systemcommand/bangkit/enkrateia/app/chatbot/data/data_train.csv', encoding='utf-8')\n",
    "data_test = pd.read_csv('/home/systemcommand/bangkit/enkrateia/app/chatbot/data/data_test.csv', encoding='utf-8')\n",
    "data = data_train.append(data_test, ignore_index=True)\n",
    "\n",
    "global emotion_array\n",
    "emotion_array = []"
   ]
  },
  {
   "cell_type": "code",
   "execution_count": 3,
   "id": "06ab47af",
   "metadata": {},
   "outputs": [],
   "source": [
    "def clean_text(data):\n",
    "    # remove hashtags and @usernames\n",
    "    data = re.sub(r\"(#[\\d\\w\\.]+)\", '', data)\n",
    "    data = re.sub(r\"(@[\\d\\w\\.]+)\", '', data)\n",
    "\n",
    "    # tokenization using nltk\n",
    "    data = word_tokenize(data)\n",
    "\n",
    "    return data\n",
    "\n",
    "\n",
    "texts = [' '.join(clean_text(text)) for text in data.Text]\n",
    "tokenizer = Tokenizer()\n",
    "tokenizer.fit_on_texts(texts)\n",
    "\n",
    "\n",
    "def clean_up_sentence(sentence):\n",
    "    # tokenize the pattern - split words into array\n",
    "    sentence_words = nltk.word_tokenize(sentence)\n",
    "    # stem each word - create short form for word\n",
    "    sentence_words = [lemmatizer.lemmatize(word.lower()) for word in sentence_words]\n",
    "    return sentence_words"
   ]
  },
  {
   "cell_type": "code",
   "execution_count": 4,
   "id": "77c880ec",
   "metadata": {},
   "outputs": [],
   "source": [
    "# return bag of words array: 0 or 1 for each word in the bag that exists in the sentence\n",
    "\n",
    "def bow(sentence, words, show_details=True):\n",
    "    # tokenize the pattern\n",
    "    sentence_words = clean_up_sentence(sentence)\n",
    "    # bag of words - matrix of N words, vocabulary matrix\n",
    "    bag = [0] * len(words)\n",
    "    for s in sentence_words:\n",
    "        for i, w in enumerate(words):\n",
    "            if w == s:\n",
    "                # assign 1 if current word is in the vocabulary position\n",
    "                bag[i] = 1\n",
    "                if show_details:\n",
    "                    print(\"found in bag: %s\" % w)\n",
    "    return (np.array(bag))"
   ]
  },
  {
   "cell_type": "code",
   "execution_count": 5,
   "id": "3ea787d6",
   "metadata": {},
   "outputs": [],
   "source": [
    "def predict_class(sentence, model):\n",
    "    # filter out predictions below a threshold\n",
    "    p = bow(sentence, words, show_details=False)\n",
    "    res = model.predict(np.array([p]))[0]\n",
    "    ERROR_THRESHOLD = 0.25\n",
    "    results = [[i, r] for i, r in enumerate(res) if r > ERROR_THRESHOLD]\n",
    "    # sort by strength of probability\n",
    "    results.sort(key=lambda x: x[1], reverse=True)\n",
    "    return_list = []\n",
    "    for r in results:\n",
    "        return_list.append({\"intent\": classes[r[0]], \"probability\": str(r[1])})\n",
    "    return return_list\n",
    "\n",
    "\n",
    "def getResponse(ints, intents_json):\n",
    "    tag = ints[0]['intent']\n",
    "    list_of_intents = intents_json['intents']\n",
    "    for i in list_of_intents:\n",
    "        if (i['tag'] == tag):\n",
    "            result = random.choice(i['responses'])\n",
    "            break\n",
    "    return result\n",
    "\n",
    "def chatbot_response(msg):\n",
    "    ints = predict_class(msg, model)\n",
    "    res = getResponse(ints, intents)\n",
    "    return res"
   ]
  },
  {
   "cell_type": "code",
   "execution_count": 6,
   "id": "b86eb519",
   "metadata": {},
   "outputs": [],
   "source": [
    "def sentiment(sent_msg):\n",
    "    seq = tokenizer.texts_to_sequences(sent_msg)\n",
    "    padded = pad_sequences(seq, maxlen=max_seq_len)  # fasttext for tokenization\n",
    "    pred = model_sent.predict(padded)\n",
    "    return pred\n",
    "\n",
    "\n",
    "def sentiment_response(sent_msg):\n",
    "    pred = sentiment(sent_msg)\n",
    "    emotion_pred = class_names[np.argmax(pred)]\n",
    "\n",
    "    if emotion_pred == 'joy':\n",
    "        emotion_cond = \"joy\"\n",
    "    elif emotion_pred == 'fear':\n",
    "        emotion_cond = \"fear\"\n",
    "    elif emotion_pred == 'anger':\n",
    "        emotion_cond = \"anger\"\n",
    "    elif emotion_pred == 'sadness':\n",
    "        emotion_cond = \"sadness\"\n",
    "    elif emotion_pred == 'neutral':\n",
    "        emotion_cond = \"neutral\"\n",
    "    else:\n",
    "        emotion_cond = \"neutral\"\n",
    "\n",
    "    return emotion_cond"
   ]
  },
  {
   "cell_type": "code",
   "execution_count": 7,
   "id": "921c668f",
   "metadata": {},
   "outputs": [],
   "source": [
    "def mood_state(emotion_array):\n",
    "    PE = 0  # positive emotion\n",
    "    NE = 0  # negative emotion\n",
    "    for emotion in emotion_array:\n",
    "        if emotion == \"joy\" or emotion == \"neutral\":\n",
    "            PE = PE + 1\n",
    "        elif emotion == \"sadness\" or emotion == \"anger\" or emotion == \"fear\":\n",
    "            NE = NE + 1\n",
    "\n",
    "    p_p = PE / len(emotion_array)\n",
    "    n_p = NE / len(emotion_array)\n",
    "\n",
    "    if n_p < 0.2 and p_p > 0.8:\n",
    "        mood = \"Emotionally Stable 🙂\"\n",
    "    elif (n_p >= 0.2 and n_p <= 0.4) and (p_p >= 0.6 and p_p <= 0.8):\n",
    "        mood = \"Slightly Stressed :|\"\n",
    "    elif (n_p > 0.4 and n_p <= 0.6) and (p_p >= 0.4 and p_p < 0.6):\n",
    "        mood = \"Highly Stressed :X\"\n",
    "    elif (n_p > 0.6 and n_p <= 0.75) and (p_p >= 0.25 and p_p < 0.4):\n",
    "        mood = \"Slightly Depressed :/\"\n",
    "    elif n_p > 0.75 and p_p < 0.25:\n",
    "        mood = \"Highly Depressed :(\"\n",
    "    else:\n",
    "        mood = \"Pending\"\n",
    "\n",
    "    print(emotion_array)\n",
    "    print(\"Negative emotion score:\", NE)\n",
    "    print(\"\", n_p)\n",
    "    print(\"\", PE)\n",
    "    print(\"\", p_p)\n",
    "    print(\"\", mood)\n",
    "\n",
    "    return mood"
   ]
  },
  {
   "cell_type": "code",
   "execution_count": 8,
   "id": "be4f6521",
   "metadata": {},
   "outputs": [
    {
     "data": {
      "text/plain": [
       "'I am Puput, an intelligent bot! <br>I will help you to check your emotions and mood state! I could also answer questions regarding wellness. Give it a go!'"
      ]
     },
     "execution_count": 8,
     "metadata": {},
     "output_type": "execute_result"
    }
   ],
   "source": [
    "chatbot_response('who are you?')"
   ]
  },
  {
   "cell_type": "code",
   "execution_count": null,
   "id": "b75b0a7b",
   "metadata": {},
   "outputs": [],
   "source": []
  }
 ],
 "metadata": {
  "kernelspec": {
   "display_name": "Python 3",
   "language": "python",
   "name": "python3"
  },
  "language_info": {
   "codemirror_mode": {
    "name": "ipython",
    "version": 3
   },
   "file_extension": ".py",
   "mimetype": "text/x-python",
   "name": "python",
   "nbconvert_exporter": "python",
   "pygments_lexer": "ipython3",
   "version": "3.8.5"
  }
 },
 "nbformat": 4,
 "nbformat_minor": 5
}
