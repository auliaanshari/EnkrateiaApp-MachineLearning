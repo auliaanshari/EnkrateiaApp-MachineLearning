{
 "cells": [
  {
   "cell_type": "code",
   "execution_count": 1,
   "id": "7753d484",
   "metadata": {},
   "outputs": [],
   "source": [
    "import keras\n",
    "import librosa\n",
    "import numpy as np"
   ]
  },
  {
   "cell_type": "code",
   "execution_count": 2,
   "id": "790a3e38",
   "metadata": {},
   "outputs": [],
   "source": [
    "path = '/home/systemcommand/bangkit/enkrateia/app/emotion/model/Emotion_Voice_Detection_Model.pbtx'\n",
    "loaded_model = keras.models.load_model(path)"
   ]
  },
  {
   "cell_type": "code",
   "execution_count": 3,
   "id": "69290132",
   "metadata": {},
   "outputs": [],
   "source": [
    "def make_predictions(file):\n",
    "    data, sampling_rate = librosa.load(file)\n",
    "    mfccs = np.mean(librosa.feature.mfcc(y=data, sr=sampling_rate, n_mfcc=40).T, axis=0)\n",
    "    x = np.expand_dims(mfccs, axis=1)\n",
    "    x = np.expand_dims(x, axis=0)\n",
    "    predictions = loaded_model.predict_classes(x)\n",
    "    print( \"Prediction is\", \":\", convert_class_to_emotion(predictions))\n",
    "    \n",
    "def convert_class_to_emotion(pred):\n",
    "    label_conversion = {'0': 'neutral',\n",
    "                        '1': 'calm',\n",
    "                        '2': 'happy',\n",
    "                        '3': 'sad',\n",
    "                        '4': 'angry',\n",
    "                        '5': 'fearful',\n",
    "                        '6': 'disgust',\n",
    "                        '7': 'surprised'}\n",
    "    \n",
    "    for key, value in label_conversion.items():\n",
    "        if int(key) == pred:\n",
    "            label = value\n",
    "    return label"
   ]
  },
  {
   "cell_type": "code",
   "execution_count": 4,
   "id": "63c20fc9",
   "metadata": {},
   "outputs": [
    {
     "name": "stderr",
     "output_type": "stream",
     "text": [
      "/home/systemcommand/bangkit/enkrateia/lib/python3.8/site-packages/keras/engine/sequential.py:450: UserWarning: `model.predict_classes()` is deprecated and will be removed after 2021-01-01. Please use instead:* `np.argmax(model.predict(x), axis=-1)`,   if your model does multi-class classification   (e.g. if it uses a `softmax` last-layer activation).* `(model.predict(x) > 0.5).astype(\"int32\")`,   if your model does binary classification   (e.g. if it uses a `sigmoid` last-layer activation).\n",
      "  warnings.warn('`model.predict_classes()` is deprecated and '\n"
     ]
    },
    {
     "name": "stdout",
     "output_type": "stream",
     "text": [
      "Prediction is : neutral\n",
      "Prediction is : disgust\n"
     ]
    }
   ],
   "source": [
    "path = '/home/systemcommand/bangkit/enkrateia/app/emotion/examples/'\n",
    "file = path + '03-01-01-01-01-02-05.wav'\n",
    "file2 = path + '10-16-07-29-82-30-63.wav'\n",
    "make_predictions(file)\n",
    "make_predictions(file2)"
   ]
  },
  {
   "cell_type": "code",
   "execution_count": null,
   "id": "e3885da1",
   "metadata": {},
   "outputs": [],
   "source": []
  }
 ],
 "metadata": {
  "kernelspec": {
   "display_name": "Python 3",
   "language": "python",
   "name": "python3"
  },
  "language_info": {
   "codemirror_mode": {
    "name": "ipython",
    "version": 3
   },
   "file_extension": ".py",
   "mimetype": "text/x-python",
   "name": "python",
   "nbconvert_exporter": "python",
   "pygments_lexer": "ipython3",
   "version": "3.8.5"
  }
 },
 "nbformat": 4,
 "nbformat_minor": 5
}
