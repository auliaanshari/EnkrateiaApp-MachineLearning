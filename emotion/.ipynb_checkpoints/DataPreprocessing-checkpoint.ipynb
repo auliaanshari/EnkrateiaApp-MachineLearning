{
 "cells": [
  {
   "cell_type": "code",
   "execution_count": null,
   "id": "ddb3a2be",
   "metadata": {},
   "outputs": [],
   "source": [
    "\"\"\"\n",
    "->  Download Audio_Song_Actors_01-24.zip and Audio_Speech_Actors_01-24.zip, \n",
    "    unzip and merge the content of the folders (e.g. Actor_01 should include both Speech and Song) \n",
    "    and then add it to the features folder.\n",
    "\n",
    "->  Create two empty folders, Actor_25 and Actor_26, into the features folder.\n",
    "\n",
    "->  Download the TESS dataset and unzip it into the data/TESS_Toronto_emotional_speech_set_data folder.\n",
    "\n",
    "->  We are filling folders Actor_25 if YAF and Actor_26 if OAF.\n",
    "    The files will be copied and renamed and not simply moved (to avoid messing up\n",
    "    things during the development of the pipeline.\n",
    "    Actor_25 and Actor_26 folders must be created before launching this script.\n",
    "    Example filename: 03-01-07-02-02-01-01.wav\n",
    "\"\"\" "
   ]
  },
  {
   "cell_type": "code",
   "execution_count": 1,
   "id": "dde5303f",
   "metadata": {},
   "outputs": [],
   "source": [
    "import os\n",
    "import shutil\n",
    "import random\n",
    "\n",
    "def create_tess_folders(path):\n",
    "    counter = 0\n",
    "    \n",
    "    label_conversion = {'01': 'neutral',\n",
    "                        '03': 'happy',\n",
    "                        '04': 'sad',\n",
    "                        '05': 'angry',\n",
    "                        '06': 'fear',\n",
    "                        '07': 'disgust',\n",
    "                        '08': 'ps'}\n",
    "\n",
    "    for subdir, dirs, files in os.walk(path):\n",
    "        for filename in files:\n",
    "            if filename.startswith('OAF'):\n",
    "                destination_path = '/home/systemcommand/bangkit/enkrateia/app/emotion/features/Actor_26/'\n",
    "                old_file_path = os.path.join(os.path.abspath(subdir), filename)\n",
    "\n",
    "                # Separate base from extension\n",
    "                base, extension = os.path.splitext(filename)\n",
    "\n",
    "                for key, value in label_conversion.items():\n",
    "                    if base.endswith(value):\n",
    "                        random_list = random.sample(range(10, 99), 7)\n",
    "                        file_name = '-'.join([str(i) for i in random_list])\n",
    "                        file_name_with_correct_emotion = file_name[:6] + key + file_name[8:] + extension\n",
    "                        new_file_path = destination_path + file_name_with_correct_emotion\n",
    "                        shutil.copy(old_file_path, new_file_path)\n",
    "\n",
    "            else:\n",
    "                destination_path = '/home/systemcommand/bangkit/enkrateia/app/emotion/features/Actor_25/'\n",
    "                old_file_path = os.path.join(os.path.abspath(subdir), filename)\n",
    "\n",
    "                # Separate base from extension\n",
    "                base, extension = os.path.splitext(filename)\n",
    "\n",
    "                for key, value in label_conversion.items():\n",
    "                    if base.endswith(value):\n",
    "                        random_list = random.sample(range(10, 99), 7)\n",
    "                        file_name = '-'.join([str(i) for i in random_list])\n",
    "                        file_name_with_correct_emotion = (file_name[:6] + key + file_name[8:] + extension).strip()\n",
    "                        new_file_path = destination_path + file_name_with_correct_emotion\n",
    "                        shutil.copy(old_file_path, new_file_path)\n",
    "    \n",
    "    print('file imported at destination')"
   ]
  },
  {
   "cell_type": "code",
   "execution_count": 2,
   "id": "dec874f2",
   "metadata": {},
   "outputs": [
    {
     "name": "stdout",
     "output_type": "stream",
     "text": [
      "file imported at destination\n"
     ]
    }
   ],
   "source": [
    "path = '/home/systemcommand/bangkit/enkrateia/app/emotion/data/TESS_Toronto_emotional_speech_set_data/'\n",
    "create_tess_folders(path)"
   ]
  },
  {
   "cell_type": "code",
   "execution_count": null,
   "id": "dda21cb8",
   "metadata": {},
   "outputs": [],
   "source": []
  }
 ],
 "metadata": {
  "kernelspec": {
   "display_name": "Python 3",
   "language": "python",
   "name": "python3"
  },
  "language_info": {
   "codemirror_mode": {
    "name": "ipython",
    "version": 3
   },
   "file_extension": ".py",
   "mimetype": "text/x-python",
   "name": "python",
   "nbconvert_exporter": "python",
   "pygments_lexer": "ipython3",
   "version": "3.8.5"
  }
 },
 "nbformat": 4,
 "nbformat_minor": 5
}
