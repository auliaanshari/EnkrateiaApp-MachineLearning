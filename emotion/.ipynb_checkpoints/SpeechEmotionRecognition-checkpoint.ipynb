{
 "cells": [
  {
   "cell_type": "code",
   "execution_count": 1,
   "id": "f02738d3",
   "metadata": {},
   "outputs": [],
   "source": [
    "import numpy as np\n",
    "import joblib\n",
    "import os\n",
    "\n",
    "from sklearn.model_selection import train_test_split\n",
    "\n",
    "import keras\n",
    "import numpy as np\n",
    "import matplotlib.pyplot as plt\n",
    "import tensorflow as tf\n",
    "from keras.preprocessing import sequence\n",
    "from keras.models import Sequential\n",
    "from keras.layers import Dense, Embedding\n",
    "from keras.utils.np_utils import to_categorical\n",
    "from keras.layers import Input, Flatten, Dropout, Activation\n",
    "from keras.layers import Conv1D, MaxPooling1D\n",
    "from keras.models import Model\n",
    "from keras.callbacks import ModelCheckpoint\n",
    "from tensorflow.keras import optimizers\n",
    "from sklearn.metrics import classification_report\n",
    "from sklearn.metrics import confusion_matrix"
   ]
  },
  {
   "cell_type": "code",
   "execution_count": 2,
   "id": "480a511f",
   "metadata": {},
   "outputs": [],
   "source": [
    "# Loading saved models\n",
    "\n",
    "X = joblib.load('/home/systemcommand/bangkit/enkrateia/app/emotion/joblib/X.joblib')\n",
    "y = joblib.load('/home/systemcommand/bangkit/enkrateia/app/emotion/joblib/y.joblib')"
   ]
  },
  {
   "cell_type": "code",
   "execution_count": 3,
   "id": "49f1fa80",
   "metadata": {},
   "outputs": [],
   "source": [
    "X_train, X_test, y_train, y_test = train_test_split(X, y, test_size=0.33, random_state=32)"
   ]
  },
  {
   "cell_type": "code",
   "execution_count": 4,
   "id": "47ddc46b",
   "metadata": {},
   "outputs": [],
   "source": [
    "x_traincnn = np.expand_dims(X_train, axis=2)\n",
    "x_testcnn = np.expand_dims(X_test, axis=2)"
   ]
  },
  {
   "cell_type": "code",
   "execution_count": 5,
   "id": "69514e7e",
   "metadata": {},
   "outputs": [
    {
     "data": {
      "text/plain": [
       "((3518, 40, 1), (1734, 40, 1))"
      ]
     },
     "execution_count": 5,
     "metadata": {},
     "output_type": "execute_result"
    }
   ],
   "source": [
    "x_traincnn.shape, x_testcnn.shape"
   ]
  },
  {
   "cell_type": "code",
   "execution_count": 6,
   "id": "f8561f31",
   "metadata": {},
   "outputs": [],
   "source": [
    "model = Sequential()\n",
    "model.add(Conv1D(64, 5, padding='same',\n",
    "                 input_shape=(40, 1)))\n",
    "model.add(Activation('relu'))\n",
    "model.add(Dropout(0.2))\n",
    "model.add(Flatten())\n",
    "model.add(Dense(8))\n",
    "model.add(Activation('softmax'))"
   ]
  },
  {
   "cell_type": "code",
   "execution_count": 7,
   "id": "99573d0f",
   "metadata": {},
   "outputs": [
    {
     "name": "stdout",
     "output_type": "stream",
     "text": [
      "Model: \"sequential\"\n",
      "_________________________________________________________________\n",
      "Layer (type)                 Output Shape              Param #   \n",
      "=================================================================\n",
      "conv1d (Conv1D)              (None, 40, 64)            384       \n",
      "_________________________________________________________________\n",
      "activation (Activation)      (None, 40, 64)            0         \n",
      "_________________________________________________________________\n",
      "dropout (Dropout)            (None, 40, 64)            0         \n",
      "_________________________________________________________________\n",
      "flatten (Flatten)            (None, 2560)              0         \n",
      "_________________________________________________________________\n",
      "dense (Dense)                (None, 8)                 20488     \n",
      "_________________________________________________________________\n",
      "activation_1 (Activation)    (None, 8)                 0         \n",
      "=================================================================\n",
      "Total params: 20,872\n",
      "Trainable params: 20,872\n",
      "Non-trainable params: 0\n",
      "_________________________________________________________________\n"
     ]
    }
   ],
   "source": [
    "model.summary()"
   ]
  },
  {
   "cell_type": "code",
   "execution_count": 8,
   "id": "822e119b",
   "metadata": {},
   "outputs": [],
   "source": [
    "model.compile(loss='sparse_categorical_crossentropy',\n",
    "              optimizer='rmsprop',\n",
    "              metrics=['accuracy'])"
   ]
  },
  {
   "cell_type": "code",
   "execution_count": 9,
   "id": "4c919b24",
   "metadata": {},
   "outputs": [
    {
     "name": "stdout",
     "output_type": "stream",
     "text": [
      "Epoch 1/100\n",
      "220/220 [==============================] - 29s 8ms/step - loss: 7.2413 - accuracy: 0.3266 - val_loss: 2.0013 - val_accuracy: 0.5617\n",
      "Epoch 2/100\n",
      "220/220 [==============================] - 1s 4ms/step - loss: 2.1175 - accuracy: 0.5876 - val_loss: 0.8998 - val_accuracy: 0.7024\n",
      "Epoch 3/100\n",
      "220/220 [==============================] - 1s 4ms/step - loss: 1.1639 - accuracy: 0.6577 - val_loss: 0.7859 - val_accuracy: 0.7336\n",
      "Epoch 4/100\n",
      "220/220 [==============================] - 1s 4ms/step - loss: 0.8387 - accuracy: 0.7104 - val_loss: 0.6656 - val_accuracy: 0.7780\n",
      "Epoch 5/100\n",
      "220/220 [==============================] - 1s 4ms/step - loss: 0.7900 - accuracy: 0.7234 - val_loss: 0.7481 - val_accuracy: 0.7428\n",
      "Epoch 6/100\n",
      "220/220 [==============================] - 1s 4ms/step - loss: 0.7011 - accuracy: 0.7473 - val_loss: 0.6504 - val_accuracy: 0.7849\n",
      "Epoch 7/100\n",
      "220/220 [==============================] - 1s 4ms/step - loss: 0.6541 - accuracy: 0.7667 - val_loss: 0.7971 - val_accuracy: 0.7463\n",
      "Epoch 8/100\n",
      "220/220 [==============================] - 1s 4ms/step - loss: 0.6254 - accuracy: 0.7842 - val_loss: 0.6262 - val_accuracy: 0.8010\n",
      "Epoch 9/100\n",
      "220/220 [==============================] - 1s 4ms/step - loss: 0.6046 - accuracy: 0.7918 - val_loss: 0.6477 - val_accuracy: 0.7762\n",
      "Epoch 10/100\n",
      "220/220 [==============================] - 1s 4ms/step - loss: 0.6053 - accuracy: 0.7829 - val_loss: 0.6475 - val_accuracy: 0.7803\n",
      "Epoch 11/100\n",
      "220/220 [==============================] - 1s 4ms/step - loss: 0.5648 - accuracy: 0.8014 - val_loss: 0.6576 - val_accuracy: 0.7751\n",
      "Epoch 12/100\n",
      "220/220 [==============================] - 1s 4ms/step - loss: 0.5602 - accuracy: 0.8010 - val_loss: 0.6998 - val_accuracy: 0.7739\n",
      "Epoch 13/100\n",
      "220/220 [==============================] - 1s 4ms/step - loss: 0.5784 - accuracy: 0.7954 - val_loss: 0.6061 - val_accuracy: 0.8051\n",
      "Epoch 14/100\n",
      "220/220 [==============================] - 1s 4ms/step - loss: 0.5588 - accuracy: 0.8084 - val_loss: 0.6137 - val_accuracy: 0.8033\n",
      "Epoch 15/100\n",
      "220/220 [==============================] - 1s 4ms/step - loss: 0.5720 - accuracy: 0.7967 - val_loss: 0.5776 - val_accuracy: 0.8033\n",
      "Epoch 16/100\n",
      "220/220 [==============================] - 1s 4ms/step - loss: 0.5457 - accuracy: 0.8108 - val_loss: 0.6305 - val_accuracy: 0.7889\n",
      "Epoch 17/100\n",
      "220/220 [==============================] - 1s 4ms/step - loss: 0.5253 - accuracy: 0.8175 - val_loss: 0.5795 - val_accuracy: 0.8201\n",
      "Epoch 18/100\n",
      "220/220 [==============================] - 1s 4ms/step - loss: 0.5070 - accuracy: 0.8220 - val_loss: 0.6457 - val_accuracy: 0.7889\n",
      "Epoch 19/100\n",
      "220/220 [==============================] - 1s 4ms/step - loss: 0.5120 - accuracy: 0.8139 - val_loss: 0.5562 - val_accuracy: 0.8126\n",
      "Epoch 20/100\n",
      "220/220 [==============================] - 1s 4ms/step - loss: 0.4947 - accuracy: 0.8239 - val_loss: 0.6028 - val_accuracy: 0.8068\n",
      "Epoch 21/100\n",
      "220/220 [==============================] - 1s 4ms/step - loss: 0.5052 - accuracy: 0.8111 - val_loss: 0.6520 - val_accuracy: 0.7976\n",
      "Epoch 22/100\n",
      "220/220 [==============================] - 1s 4ms/step - loss: 0.4715 - accuracy: 0.8280 - val_loss: 0.6148 - val_accuracy: 0.8045\n",
      "Epoch 23/100\n",
      "220/220 [==============================] - 1s 4ms/step - loss: 0.4666 - accuracy: 0.8310 - val_loss: 0.6506 - val_accuracy: 0.7918\n",
      "Epoch 24/100\n",
      "220/220 [==============================] - 1s 4ms/step - loss: 0.4740 - accuracy: 0.8398 - val_loss: 0.6114 - val_accuracy: 0.8033\n",
      "Epoch 25/100\n",
      "220/220 [==============================] - 1s 4ms/step - loss: 0.4678 - accuracy: 0.8380 - val_loss: 0.5959 - val_accuracy: 0.8114\n",
      "Epoch 26/100\n",
      "220/220 [==============================] - 1s 4ms/step - loss: 0.4810 - accuracy: 0.8296 - val_loss: 0.5623 - val_accuracy: 0.8241\n",
      "Epoch 27/100\n",
      "220/220 [==============================] - 1s 4ms/step - loss: 0.4704 - accuracy: 0.8438 - val_loss: 0.6364 - val_accuracy: 0.7924\n",
      "Epoch 28/100\n",
      "220/220 [==============================] - 1s 4ms/step - loss: 0.4807 - accuracy: 0.8224 - val_loss: 0.8965 - val_accuracy: 0.7370\n",
      "Epoch 29/100\n",
      "220/220 [==============================] - 1s 4ms/step - loss: 0.4751 - accuracy: 0.8233 - val_loss: 0.6076 - val_accuracy: 0.8126\n",
      "Epoch 30/100\n",
      "220/220 [==============================] - 1s 4ms/step - loss: 0.4421 - accuracy: 0.8550 - val_loss: 0.6176 - val_accuracy: 0.8028\n",
      "Epoch 31/100\n",
      "220/220 [==============================] - 1s 4ms/step - loss: 0.4657 - accuracy: 0.8309 - val_loss: 0.5675 - val_accuracy: 0.8195\n",
      "Epoch 32/100\n",
      "220/220 [==============================] - 1s 4ms/step - loss: 0.4567 - accuracy: 0.8342 - val_loss: 0.6006 - val_accuracy: 0.8183\n",
      "Epoch 33/100\n",
      "220/220 [==============================] - 1s 4ms/step - loss: 0.4503 - accuracy: 0.8361 - val_loss: 0.6023 - val_accuracy: 0.8183\n",
      "Epoch 34/100\n",
      "220/220 [==============================] - 1s 4ms/step - loss: 0.4209 - accuracy: 0.8520 - val_loss: 0.5625 - val_accuracy: 0.8201\n",
      "Epoch 35/100\n",
      "220/220 [==============================] - 1s 4ms/step - loss: 0.4551 - accuracy: 0.8422 - val_loss: 0.6319 - val_accuracy: 0.8039\n",
      "Epoch 36/100\n",
      "220/220 [==============================] - 1s 4ms/step - loss: 0.4579 - accuracy: 0.8459 - val_loss: 0.6117 - val_accuracy: 0.8155\n",
      "Epoch 37/100\n",
      "220/220 [==============================] - 1s 4ms/step - loss: 0.4400 - accuracy: 0.8380 - val_loss: 0.6519 - val_accuracy: 0.7912\n",
      "Epoch 38/100\n",
      "220/220 [==============================] - 1s 4ms/step - loss: 0.4070 - accuracy: 0.8609 - val_loss: 0.6046 - val_accuracy: 0.8155\n",
      "Epoch 39/100\n",
      "220/220 [==============================] - 1s 4ms/step - loss: 0.4377 - accuracy: 0.8427 - val_loss: 0.6269 - val_accuracy: 0.8045\n",
      "Epoch 40/100\n",
      "220/220 [==============================] - 1s 4ms/step - loss: 0.4208 - accuracy: 0.8444 - val_loss: 0.5771 - val_accuracy: 0.8212\n",
      "Epoch 41/100\n",
      "220/220 [==============================] - 1s 4ms/step - loss: 0.4482 - accuracy: 0.8482 - val_loss: 0.6015 - val_accuracy: 0.8155\n",
      "Epoch 42/100\n",
      "220/220 [==============================] - 1s 4ms/step - loss: 0.4135 - accuracy: 0.8532 - val_loss: 0.5909 - val_accuracy: 0.8276\n",
      "Epoch 43/100\n",
      "220/220 [==============================] - 1s 4ms/step - loss: 0.4333 - accuracy: 0.8443 - val_loss: 0.5860 - val_accuracy: 0.8322\n",
      "Epoch 44/100\n",
      "220/220 [==============================] - 1s 4ms/step - loss: 0.4263 - accuracy: 0.8419 - val_loss: 0.6304 - val_accuracy: 0.8206\n",
      "Epoch 45/100\n",
      "220/220 [==============================] - 1s 4ms/step - loss: 0.4194 - accuracy: 0.8493 - val_loss: 0.6301 - val_accuracy: 0.8103\n",
      "Epoch 46/100\n",
      "220/220 [==============================] - 1s 4ms/step - loss: 0.3941 - accuracy: 0.8593 - val_loss: 0.6636 - val_accuracy: 0.8045\n",
      "Epoch 47/100\n",
      "220/220 [==============================] - 1s 4ms/step - loss: 0.4085 - accuracy: 0.8578 - val_loss: 0.5592 - val_accuracy: 0.8230\n",
      "Epoch 48/100\n",
      "220/220 [==============================] - 1s 5ms/step - loss: 0.3998 - accuracy: 0.8576 - val_loss: 0.7399 - val_accuracy: 0.7889\n",
      "Epoch 49/100\n",
      "220/220 [==============================] - 1s 4ms/step - loss: 0.4357 - accuracy: 0.8536 - val_loss: 0.6107 - val_accuracy: 0.8183\n",
      "Epoch 50/100\n",
      "220/220 [==============================] - 1s 4ms/step - loss: 0.4401 - accuracy: 0.8573 - val_loss: 0.6080 - val_accuracy: 0.8108\n",
      "Epoch 51/100\n",
      "220/220 [==============================] - 1s 4ms/step - loss: 0.3941 - accuracy: 0.8651 - val_loss: 0.5990 - val_accuracy: 0.8166\n",
      "Epoch 52/100\n",
      "220/220 [==============================] - 1s 4ms/step - loss: 0.3738 - accuracy: 0.8662 - val_loss: 0.5532 - val_accuracy: 0.8270\n",
      "Epoch 53/100\n",
      "220/220 [==============================] - 1s 5ms/step - loss: 0.3727 - accuracy: 0.8750 - val_loss: 0.6768 - val_accuracy: 0.8103\n",
      "Epoch 54/100\n",
      "220/220 [==============================] - 1s 5ms/step - loss: 0.3869 - accuracy: 0.8686 - val_loss: 0.7304 - val_accuracy: 0.7958\n",
      "Epoch 55/100\n",
      "220/220 [==============================] - 1s 4ms/step - loss: 0.3846 - accuracy: 0.8700 - val_loss: 0.5894 - val_accuracy: 0.8258\n",
      "Epoch 56/100\n",
      "220/220 [==============================] - 1s 4ms/step - loss: 0.3703 - accuracy: 0.8692 - val_loss: 0.5904 - val_accuracy: 0.8287\n",
      "Epoch 57/100\n",
      "220/220 [==============================] - 1s 4ms/step - loss: 0.3751 - accuracy: 0.8668 - val_loss: 0.5993 - val_accuracy: 0.8264\n"
     ]
    },
    {
     "name": "stdout",
     "output_type": "stream",
     "text": [
      "Epoch 58/100\n",
      "220/220 [==============================] - 1s 4ms/step - loss: 0.3895 - accuracy: 0.8589 - val_loss: 0.6523 - val_accuracy: 0.8253\n",
      "Epoch 59/100\n",
      "220/220 [==============================] - 1s 4ms/step - loss: 0.4159 - accuracy: 0.8574 - val_loss: 0.7037 - val_accuracy: 0.7958\n",
      "Epoch 60/100\n",
      "220/220 [==============================] - 1s 4ms/step - loss: 0.3952 - accuracy: 0.8656 - val_loss: 0.6150 - val_accuracy: 0.8235\n",
      "Epoch 61/100\n",
      "220/220 [==============================] - 1s 4ms/step - loss: 0.3798 - accuracy: 0.8696 - val_loss: 0.6316 - val_accuracy: 0.8235\n",
      "Epoch 62/100\n",
      "220/220 [==============================] - 1s 4ms/step - loss: 0.3866 - accuracy: 0.8747 - val_loss: 0.6678 - val_accuracy: 0.8172\n",
      "Epoch 63/100\n",
      "220/220 [==============================] - 1s 4ms/step - loss: 0.3955 - accuracy: 0.8629 - val_loss: 0.6248 - val_accuracy: 0.8230\n",
      "Epoch 64/100\n",
      "220/220 [==============================] - 1s 4ms/step - loss: 0.3948 - accuracy: 0.8672 - val_loss: 0.6133 - val_accuracy: 0.8235\n",
      "Epoch 65/100\n",
      "220/220 [==============================] - 1s 4ms/step - loss: 0.3912 - accuracy: 0.8715 - val_loss: 0.6681 - val_accuracy: 0.8114\n",
      "Epoch 66/100\n",
      "220/220 [==============================] - 1s 4ms/step - loss: 0.3990 - accuracy: 0.8693 - val_loss: 0.6253 - val_accuracy: 0.8155\n",
      "Epoch 67/100\n",
      "220/220 [==============================] - 1s 5ms/step - loss: 0.3860 - accuracy: 0.8630 - val_loss: 0.6759 - val_accuracy: 0.8103\n",
      "Epoch 68/100\n",
      "220/220 [==============================] - 1s 4ms/step - loss: 0.4040 - accuracy: 0.8605 - val_loss: 0.6618 - val_accuracy: 0.8114\n",
      "Epoch 69/100\n",
      "220/220 [==============================] - 1s 4ms/step - loss: 0.3341 - accuracy: 0.8809 - val_loss: 0.5994 - val_accuracy: 0.8362\n",
      "Epoch 70/100\n",
      "220/220 [==============================] - 1s 4ms/step - loss: 0.3671 - accuracy: 0.8723 - val_loss: 0.6270 - val_accuracy: 0.8293\n",
      "Epoch 71/100\n",
      "220/220 [==============================] - 1s 4ms/step - loss: 0.3737 - accuracy: 0.8629 - val_loss: 0.6295 - val_accuracy: 0.8212\n",
      "Epoch 72/100\n",
      "220/220 [==============================] - 1s 4ms/step - loss: 0.3935 - accuracy: 0.8641 - val_loss: 0.6271 - val_accuracy: 0.8391\n",
      "Epoch 73/100\n",
      "220/220 [==============================] - 1s 5ms/step - loss: 0.3623 - accuracy: 0.8766 - val_loss: 0.6201 - val_accuracy: 0.8345\n",
      "Epoch 74/100\n",
      "220/220 [==============================] - 1s 4ms/step - loss: 0.3971 - accuracy: 0.8640 - val_loss: 0.6783 - val_accuracy: 0.8137\n",
      "Epoch 75/100\n",
      "220/220 [==============================] - 1s 4ms/step - loss: 0.3480 - accuracy: 0.8759 - val_loss: 0.5782 - val_accuracy: 0.8345\n",
      "Epoch 76/100\n",
      "220/220 [==============================] - 1s 4ms/step - loss: 0.3899 - accuracy: 0.8702 - val_loss: 0.6228 - val_accuracy: 0.8322\n",
      "Epoch 77/100\n",
      "220/220 [==============================] - 1s 4ms/step - loss: 0.3416 - accuracy: 0.8763 - val_loss: 0.6405 - val_accuracy: 0.8241\n",
      "Epoch 78/100\n",
      "220/220 [==============================] - 1s 4ms/step - loss: 0.3576 - accuracy: 0.8764 - val_loss: 0.6381 - val_accuracy: 0.8235\n",
      "Epoch 79/100\n",
      "220/220 [==============================] - 1s 4ms/step - loss: 0.3830 - accuracy: 0.8682 - val_loss: 0.5863 - val_accuracy: 0.8397\n",
      "Epoch 80/100\n",
      "220/220 [==============================] - 1s 4ms/step - loss: 0.3729 - accuracy: 0.8753 - val_loss: 0.6488 - val_accuracy: 0.8276\n",
      "Epoch 81/100\n",
      "220/220 [==============================] - 1s 5ms/step - loss: 0.3734 - accuracy: 0.8751 - val_loss: 0.6163 - val_accuracy: 0.8299\n",
      "Epoch 82/100\n",
      "220/220 [==============================] - 1s 4ms/step - loss: 0.3911 - accuracy: 0.8781 - val_loss: 0.6635 - val_accuracy: 0.8253\n",
      "Epoch 83/100\n",
      "220/220 [==============================] - 1s 4ms/step - loss: 0.3746 - accuracy: 0.8775 - val_loss: 0.6392 - val_accuracy: 0.8235\n",
      "Epoch 84/100\n",
      "220/220 [==============================] - 1s 4ms/step - loss: 0.3681 - accuracy: 0.8789 - val_loss: 0.6662 - val_accuracy: 0.8235\n",
      "Epoch 85/100\n",
      "220/220 [==============================] - 1s 4ms/step - loss: 0.3638 - accuracy: 0.8712 - val_loss: 0.6035 - val_accuracy: 0.8374\n",
      "Epoch 86/100\n",
      "220/220 [==============================] - 1s 4ms/step - loss: 0.3534 - accuracy: 0.8806 - val_loss: 0.6339 - val_accuracy: 0.8403\n",
      "Epoch 87/100\n",
      "220/220 [==============================] - 1s 4ms/step - loss: 0.3723 - accuracy: 0.8576 - val_loss: 0.6151 - val_accuracy: 0.8310\n",
      "Epoch 88/100\n",
      "220/220 [==============================] - 1s 4ms/step - loss: 0.4074 - accuracy: 0.8671 - val_loss: 0.6124 - val_accuracy: 0.8328\n",
      "Epoch 89/100\n",
      "220/220 [==============================] - 1s 4ms/step - loss: 0.3530 - accuracy: 0.8764 - val_loss: 0.6228 - val_accuracy: 0.8322\n",
      "Epoch 90/100\n",
      "220/220 [==============================] - 1s 4ms/step - loss: 0.3553 - accuracy: 0.8795 - val_loss: 0.6667 - val_accuracy: 0.8224\n",
      "Epoch 91/100\n",
      "220/220 [==============================] - 1s 4ms/step - loss: 0.3945 - accuracy: 0.8688 - val_loss: 0.6434 - val_accuracy: 0.8201\n",
      "Epoch 92/100\n",
      "220/220 [==============================] - 1s 4ms/step - loss: 0.3814 - accuracy: 0.8772 - val_loss: 0.6193 - val_accuracy: 0.8356\n",
      "Epoch 93/100\n",
      "220/220 [==============================] - 1s 4ms/step - loss: 0.3405 - accuracy: 0.8854 - val_loss: 0.6265 - val_accuracy: 0.8224\n",
      "Epoch 94/100\n",
      "220/220 [==============================] - 1s 4ms/step - loss: 0.3603 - accuracy: 0.8712 - val_loss: 0.6802 - val_accuracy: 0.8178\n",
      "Epoch 95/100\n",
      "220/220 [==============================] - 1s 4ms/step - loss: 0.3458 - accuracy: 0.8855 - val_loss: 0.6522 - val_accuracy: 0.8281\n",
      "Epoch 96/100\n",
      "220/220 [==============================] - 1s 4ms/step - loss: 0.3418 - accuracy: 0.8829 - val_loss: 0.6494 - val_accuracy: 0.8287\n",
      "Epoch 97/100\n",
      "220/220 [==============================] - 1s 4ms/step - loss: 0.3727 - accuracy: 0.8727 - val_loss: 0.7354 - val_accuracy: 0.8080\n",
      "Epoch 98/100\n",
      "220/220 [==============================] - 1s 4ms/step - loss: 0.3393 - accuracy: 0.8879 - val_loss: 0.6233 - val_accuracy: 0.8379\n",
      "Epoch 99/100\n",
      "220/220 [==============================] - 1s 4ms/step - loss: 0.3320 - accuracy: 0.8842 - val_loss: 0.6166 - val_accuracy: 0.8403\n",
      "Epoch 100/100\n",
      "220/220 [==============================] - 1s 4ms/step - loss: 0.3656 - accuracy: 0.8740 - val_loss: 0.6404 - val_accuracy: 0.8351\n"
     ]
    }
   ],
   "source": [
    "cnn_history = model.fit(x_traincnn, y_train,\n",
    "                        batch_size=16, epochs=100,\n",
    "                        validation_data=(x_testcnn, y_test))"
   ]
  },
  {
   "cell_type": "code",
   "execution_count": 10,
   "id": "9a0630a8",
   "metadata": {},
   "outputs": [
    {
     "data": {
      "image/png": "[encoded data removed]",
      "text/plain": [
       "<Figure size 432x288 with 1 Axes>"
      ]
     },
     "metadata": {
      "needs_background": "light"
     },
     "output_type": "display_data"
    }
   ],
   "source": [
    "plt.plot(cnn_history.history['loss'])\n",
    "plt.plot(cnn_history.history['val_loss'])\n",
    "plt.title('model loss')\n",
    "plt.ylabel('loss')\n",
    "plt.xlabel('epoch')\n",
    "plt.legend(['train', 'test'], loc='upper left')\n",
    "plt.show()"
   ]
  },
  {
   "cell_type": "code",
   "execution_count": 11,
   "id": "673d407f",
   "metadata": {},
   "outputs": [
    {
     "data": {
      "image/png": "[encoded data removed]",
      "text/plain": [
       "<Figure size 432x288 with 1 Axes>"
      ]
     },
     "metadata": {
      "needs_background": "light"
     },
     "output_type": "display_data"
    }
   ],
   "source": [
    "plt.plot(cnn_history.history['accuracy'])\n",
    "plt.plot(cnn_history.history['val_accuracy'])\n",
    "plt.title('model accuracy')\n",
    "plt.ylabel('acc')\n",
    "plt.xlabel('epoch')\n",
    "plt.legend(['train', 'test'], loc='upper left')\n",
    "plt.show()"
   ]
  },
  {
   "cell_type": "code",
   "execution_count": 12,
   "id": "d94c6291",
   "metadata": {},
   "outputs": [
    {
     "name": "stderr",
     "output_type": "stream",
     "text": [
      "/home/systemcommand/bangkit/enkrateia/lib/python3.8/site-packages/keras/engine/sequential.py:450: UserWarning: `model.predict_classes()` is deprecated and will be removed after 2021-01-01. Please use instead:* `np.argmax(model.predict(x), axis=-1)`,   if your model does multi-class classification   (e.g. if it uses a `softmax` last-layer activation).* `(model.predict(x) > 0.5).astype(\"int32\")`,   if your model does binary classification   (e.g. if it uses a `sigmoid` last-layer activation).\n",
      "  warnings.warn('`model.predict_classes()` is deprecated and '\n"
     ]
    },
    {
     "name": "stdout",
     "output_type": "stream",
     "text": [
      "              precision    recall  f1-score   support\n",
      "\n",
      "           0       0.88      0.88      0.88       194\n",
      "           1       0.76      0.78      0.77       131\n",
      "           2       0.75      0.88      0.81       257\n",
      "           3       0.87      0.78      0.82       248\n",
      "           4       0.93      0.86      0.89       261\n",
      "           5       0.83      0.82      0.83       247\n",
      "           6       0.77      0.87      0.81       188\n",
      "           7       0.91      0.80      0.85       208\n",
      "\n",
      "    accuracy                           0.84      1734\n",
      "   macro avg       0.84      0.83      0.83      1734\n",
      "weighted avg       0.84      0.84      0.84      1734\n",
      "\n"
     ]
    }
   ],
   "source": [
    "predictions = model.predict_classes(x_testcnn)\n",
    "new_y_test = y_test.astype(int)\n",
    "print(classification_report(new_y_test, predictions))"
   ]
  },
  {
   "cell_type": "code",
   "execution_count": 13,
   "id": "d925b5ff",
   "metadata": {},
   "outputs": [
    {
     "name": "stdout",
     "output_type": "stream",
     "text": [
      "[[171   8   5   1   0   2   6   1]\n",
      " [  4 102  13   3   0   1   8   0]\n",
      " [  3   3 225   3   6  14   1   2]\n",
      " [  3  11  12 194   0  10  14   4]\n",
      " [  2   2  13   3 225   8   6   2]\n",
      " [  4   4  13  15   2 202   3   4]\n",
      " [  4   3   5   2   8   0 163   3]\n",
      " [  4   1  16   2   2   5  12 166]]\n"
     ]
    }
   ],
   "source": [
    "matrix = confusion_matrix(new_y_test, predictions)\n",
    "print(matrix)"
   ]
  },
  {
   "cell_type": "code",
   "execution_count": 14,
   "id": "e8031be7",
   "metadata": {},
   "outputs": [
    {
     "name": "stdout",
     "output_type": "stream",
     "text": [
      "INFO:tensorflow:Assets written to: /home/systemcommand/bangkit/enkrateia/app/emotion/model/Emotion_Voice_Detection_Model.pbtx/assets\n",
      "Saved trained model at /home/systemcommand/bangkit/enkrateia/app/emotion/model/Emotion_Voice_Detection_Model.pbtx \n"
     ]
    }
   ],
   "source": [
    "model_name = 'Emotion_Voice_Detection_Model.pbtx'\n",
    "save_dir = '/home/systemcommand/bangkit/enkrateia/app/emotion/model/'\n",
    "# Save model and weights\n",
    "if not os.path.isdir(save_dir):\n",
    "    os.makedirs(save_dir)\n",
    "model_path = os.path.join(save_dir, model_name)\n",
    "model.save(model_path)\n",
    "print('Saved trained model at %s ' % model_path)"
   ]
  },
  {
   "cell_type": "code",
   "execution_count": 15,
   "id": "b216fc47",
   "metadata": {},
   "outputs": [
    {
     "name": "stdout",
     "output_type": "stream",
     "text": [
      "Model: \"sequential\"\n",
      "_________________________________________________________________\n",
      "Layer (type)                 Output Shape              Param #   \n",
      "=================================================================\n",
      "conv1d (Conv1D)              (None, 40, 64)            384       \n",
      "_________________________________________________________________\n",
      "activation (Activation)      (None, 40, 64)            0         \n",
      "_________________________________________________________________\n",
      "dropout (Dropout)            (None, 40, 64)            0         \n",
      "_________________________________________________________________\n",
      "flatten (Flatten)            (None, 2560)              0         \n",
      "_________________________________________________________________\n",
      "dense (Dense)                (None, 8)                 20488     \n",
      "_________________________________________________________________\n",
      "activation_1 (Activation)    (None, 8)                 0         \n",
      "=================================================================\n",
      "Total params: 20,872\n",
      "Trainable params: 20,872\n",
      "Non-trainable params: 0\n",
      "_________________________________________________________________\n"
     ]
    }
   ],
   "source": [
    "loaded_model = keras.models.load_model('/home/systemcommand/bangkit/enkrateia/app/emotion/model/Emotion_Voice_Detection_Model.pbtx')\n",
    "loaded_model.summary()"
   ]
  },
  {
   "cell_type": "code",
   "execution_count": 16,
   "id": "0de444cd",
   "metadata": {},
   "outputs": [
    {
     "name": "stdout",
     "output_type": "stream",
     "text": [
      "55/55 [==============================] - 1s 2ms/step - loss: 0.6404 - accuracy: 0.8351\n",
      "Restored model, accuracy: 83.51%\n"
     ]
    }
   ],
   "source": [
    "loss, acc = loaded_model.evaluate(x_testcnn, y_test)\n",
    "print(\"Restored model, accuracy: {:5.2f}%\".format(100*acc))"
   ]
  },
  {
   "cell_type": "code",
   "execution_count": null,
   "id": "adb21096",
   "metadata": {},
   "outputs": [],
   "source": []
  }
 ],
 "metadata": {
  "kernelspec": {
   "display_name": "Python 3",
   "language": "python",
   "name": "python3"
  },
  "language_info": {
   "codemirror_mode": {
    "name": "ipython",
    "version": 3
   },
   "file_extension": ".py",
   "mimetype": "text/x-python",
   "name": "python",
   "nbconvert_exporter": "python",
   "pygments_lexer": "ipython3",
   "version": "3.8.5"
  }
 },
 "nbformat": 4,
 "nbformat_minor": 5
}
